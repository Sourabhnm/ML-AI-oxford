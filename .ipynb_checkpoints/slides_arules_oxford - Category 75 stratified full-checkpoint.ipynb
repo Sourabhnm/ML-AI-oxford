{
 "cells": [
  {
   "cell_type": "markdown",
   "metadata": {},
   "source": [
    "# Playground for Association Rule Learning slides\n",
    "\n",
    "- Stephen W. Thomas\n",
    "- Used for MMA 869, MMAI 869, and GMMA 869"
   ]
  },
  {
   "cell_type": "code",
   "execution_count": 1,
   "metadata": {},
   "outputs": [],
   "source": [
    "import pandas as pd\n",
    "\n",
    "from IPython.core.interactiveshell import InteractiveShell\n",
    "InteractiveShell.ast_node_interactivity = \"all\""
   ]
  },
  {
   "cell_type": "markdown",
   "metadata": {},
   "source": [
    "# Example of converting lists into a dataframe"
   ]
  },
  {
   "cell_type": "code",
   "execution_count": 2,
   "metadata": {},
   "outputs": [],
   "source": [
    "#dataset = pd.read_csv(\"AR categories.csv\")\n",
    "\n",
    "import pandas as pd\n",
    "from mlxtend.preprocessing import TransactionEncoder #need to install mlxtend\n",
    "\n",
    "#te = TransactionEncoder()\n",
    "#te_ary = te.fit(dataset).transform(dataset)\n",
    "#df1 = pd.DataFrame(te_ary, columns=te.columns_)\n",
    "#df1pip"
   ]
  },
  {
   "cell_type": "markdown",
   "metadata": {},
   "source": [
    "# Read in Data"
   ]
  },
  {
   "cell_type": "code",
   "execution_count": 6,
   "metadata": {},
   "outputs": [
    {
     "name": "stdout",
     "output_type": "stream",
     "text": [
      "<class 'pandas.core.frame.DataFrame'>\n",
      "RangeIndex: 917420 entries, 0 to 917419\n",
      "Data columns (total 30 columns):\n",
      "Unnamed: 0                        917420 non-null int64\n",
      "exp4$Customer_ID_AR               917420 non-null int64\n",
      "Customer_ID_AR                    917420 non-null bool\n",
      "Bank                              917420 non-null bool\n",
      "Children...Infants.Apparel        917420 non-null bool\n",
      "Corridor                          917420 non-null bool\n",
      "Electronics                       917420 non-null bool\n",
      "Entrance                          917420 non-null bool\n",
      "Family.Apparel                    917420 non-null bool\n",
      "Fashion.Accessories               917420 non-null bool\n",
      "Food.Court                        917420 non-null bool\n",
      "Footwear                          917420 non-null bool\n",
      "Full.Service.Restaurants          917420 non-null bool\n",
      "Furniture...Home.Furnishings      917420 non-null bool\n",
      "General.merch...variety.stores    917420 non-null bool\n",
      "Health...Beauty                   917420 non-null bool\n",
      "Jewellery                         917420 non-null bool\n",
      "Large.Format                      917420 non-null bool\n",
      "Mens.Apparel                      917420 non-null bool\n",
      "Non.Food.Court.Fast.Food          917420 non-null bool\n",
      "Office.supply.stationary.gifts    917420 non-null bool\n",
      "Other.Services                    917420 non-null bool\n",
      "Personal.Care.Services            917420 non-null bool\n",
      "Recreation                        917420 non-null bool\n",
      "Specialty.Apparel                 917420 non-null bool\n",
      "Specialty.Food.Stores             917420 non-null bool\n",
      "Specialty.Leasing                 917420 non-null bool\n",
      "Unassigned                        917420 non-null bool\n",
      "Washroom                          917420 non-null bool\n",
      "Womens.Apparel                    917420 non-null bool\n",
      "dtypes: bool(28), int64(2)\n",
      "memory usage: 38.5 MB\n"
     ]
    }
   ],
   "source": [
    "#df = pd.read_csv(\"AR categories.csv\")\n",
    "\n",
    "df = pd.read_csv(\"AR 75 percent categories.csv\")\n",
    "\n",
    "X = df.copy()\n",
    "X = X.drop(['Unnamed: 0', 'exp4$Customer_ID_AR', 'Customer_ID_AR', 'Corridor', 'Entrance'], axis=1) #axis 0 to drop rows\n",
    "\n",
    "\n",
    "df.info()"
   ]
  },
  {
   "cell_type": "code",
   "execution_count": null,
   "metadata": {},
   "outputs": [],
   "source": [
    "X.head()\n",
    "X.shape"
   ]
  },
  {
   "cell_type": "code",
   "execution_count": 7,
   "metadata": {},
   "outputs": [
    {
     "name": "stdout",
     "output_type": "stream",
     "text": [
      "Wall time: 336 ms\n"
     ]
    }
   ],
   "source": [
    "from mlxtend.frequent_patterns import apriori\n",
    "\n",
    "%time frequent_itemsets = apriori(X, min_support=0.1, use_colnames=True)"
   ]
  },
  {
   "cell_type": "code",
   "execution_count": null,
   "metadata": {},
   "outputs": [],
   "source": [
    "frequent_itemsets.head(10)"
   ]
  },
  {
   "cell_type": "code",
   "execution_count": null,
   "metadata": {},
   "outputs": [],
   "source": [
    "frequent_itemsets.tail(10)"
   ]
  },
  {
   "cell_type": "code",
   "execution_count": 8,
   "metadata": {},
   "outputs": [
    {
     "data": {
      "text/html": [
       "<div>\n",
       "<style scoped>\n",
       "    .dataframe tbody tr th:only-of-type {\n",
       "        vertical-align: middle;\n",
       "    }\n",
       "\n",
       "    .dataframe tbody tr th {\n",
       "        vertical-align: top;\n",
       "    }\n",
       "\n",
       "    .dataframe thead th {\n",
       "        text-align: right;\n",
       "    }\n",
       "</style>\n",
       "<table border=\"1\" class=\"dataframe\">\n",
       "  <thead>\n",
       "    <tr style=\"text-align: right;\">\n",
       "      <th></th>\n",
       "      <th>support</th>\n",
       "      <th>itemsets</th>\n",
       "    </tr>\n",
       "  </thead>\n",
       "  <tbody>\n",
       "    <tr>\n",
       "      <td>5</td>\n",
       "      <td>0.504122</td>\n",
       "      <td>(Large.Format)</td>\n",
       "    </tr>\n",
       "    <tr>\n",
       "      <td>2</td>\n",
       "      <td>0.259366</td>\n",
       "      <td>(Food.Court)</td>\n",
       "    </tr>\n",
       "    <tr>\n",
       "      <td>1</td>\n",
       "      <td>0.252329</td>\n",
       "      <td>(Family.Apparel)</td>\n",
       "    </tr>\n",
       "    <tr>\n",
       "      <td>7</td>\n",
       "      <td>0.168554</td>\n",
       "      <td>(Large.Format, Family.Apparel)</td>\n",
       "    </tr>\n",
       "    <tr>\n",
       "      <td>6</td>\n",
       "      <td>0.168027</td>\n",
       "      <td>(Womens.Apparel)</td>\n",
       "    </tr>\n",
       "  </tbody>\n",
       "</table>\n",
       "</div>"
      ],
      "text/plain": [
       "    support                        itemsets\n",
       "5  0.504122                  (Large.Format)\n",
       "2  0.259366                    (Food.Court)\n",
       "1  0.252329                (Family.Apparel)\n",
       "7  0.168554  (Large.Format, Family.Apparel)\n",
       "6  0.168027                (Womens.Apparel)"
      ]
     },
     "execution_count": 8,
     "metadata": {},
     "output_type": "execute_result"
    }
   ],
   "source": [
    "frequent_itemsets.sort_values(by=['support'], ascending=False).head()"
   ]
  },
  {
   "cell_type": "code",
   "execution_count": 9,
   "metadata": {},
   "outputs": [],
   "source": [
    "frequent_itemsets['length'] = frequent_itemsets['itemsets'].apply(lambda x: len(x))"
   ]
  },
  {
   "cell_type": "code",
   "execution_count": null,
   "metadata": {},
   "outputs": [],
   "source": [
    "frequent_itemsets.head()"
   ]
  },
  {
   "cell_type": "code",
   "execution_count": 10,
   "metadata": {},
   "outputs": [
    {
     "data": {
      "text/html": [
       "<div>\n",
       "<style scoped>\n",
       "    .dataframe tbody tr th:only-of-type {\n",
       "        vertical-align: middle;\n",
       "    }\n",
       "\n",
       "    .dataframe tbody tr th {\n",
       "        vertical-align: top;\n",
       "    }\n",
       "\n",
       "    .dataframe thead th {\n",
       "        text-align: right;\n",
       "    }\n",
       "</style>\n",
       "<table border=\"1\" class=\"dataframe\">\n",
       "  <thead>\n",
       "    <tr style=\"text-align: right;\">\n",
       "      <th></th>\n",
       "      <th>support</th>\n",
       "      <th>itemsets</th>\n",
       "      <th>length</th>\n",
       "    </tr>\n",
       "  </thead>\n",
       "  <tbody>\n",
       "    <tr>\n",
       "      <td>7</td>\n",
       "      <td>0.168554</td>\n",
       "      <td>(Large.Format, Family.Apparel)</td>\n",
       "      <td>2</td>\n",
       "    </tr>\n",
       "    <tr>\n",
       "      <td>8</td>\n",
       "      <td>0.162565</td>\n",
       "      <td>(Food.Court, Large.Format)</td>\n",
       "      <td>2</td>\n",
       "    </tr>\n",
       "    <tr>\n",
       "      <td>9</td>\n",
       "      <td>0.107684</td>\n",
       "      <td>(Footwear, Large.Format)</td>\n",
       "      <td>2</td>\n",
       "    </tr>\n",
       "    <tr>\n",
       "      <td>10</td>\n",
       "      <td>0.102374</td>\n",
       "      <td>(Health...Beauty, Large.Format)</td>\n",
       "      <td>2</td>\n",
       "    </tr>\n",
       "    <tr>\n",
       "      <td>11</td>\n",
       "      <td>0.111615</td>\n",
       "      <td>(Womens.Apparel, Large.Format)</td>\n",
       "      <td>2</td>\n",
       "    </tr>\n",
       "  </tbody>\n",
       "</table>\n",
       "</div>"
      ],
      "text/plain": [
       "     support                         itemsets  length\n",
       "7   0.168554   (Large.Format, Family.Apparel)       2\n",
       "8   0.162565       (Food.Court, Large.Format)       2\n",
       "9   0.107684         (Footwear, Large.Format)       2\n",
       "10  0.102374  (Health...Beauty, Large.Format)       2\n",
       "11  0.111615   (Womens.Apparel, Large.Format)       2"
      ]
     },
     "execution_count": 10,
     "metadata": {},
     "output_type": "execute_result"
    }
   ],
   "source": [
    "frequent_itemsets[ (frequent_itemsets['length'] >= 2)  ]"
   ]
  },
  {
   "cell_type": "code",
   "execution_count": null,
   "metadata": {},
   "outputs": [],
   "source": [
    "from mlxtend.frequent_patterns import association_rules\n",
    "%time rules = association_rules(frequent_itemsets, min_threshold=0.8)"
   ]
  },
  {
   "cell_type": "code",
   "execution_count": null,
   "metadata": {},
   "outputs": [],
   "source": [
    "rules[\"antecedent_len\"] = rules[\"antecedents\"].apply(lambda x: len(x))\n",
    "rules"
   ]
  },
  {
   "cell_type": "code",
   "execution_count": null,
   "metadata": {},
   "outputs": [],
   "source": [
    "rules[ (rules['antecedent_len'] >= 2) &\n",
    "       (rules['confidence'] > 0.8) &\n",
    "       (rules['lift'] > 1.2) ].sort_values(by=\"support\", ascending=False)"
   ]
  },
  {
   "cell_type": "code",
   "execution_count": null,
   "metadata": {},
   "outputs": [],
   "source": [
    "rules[ (rules['antecedents'].apply(lambda x: 'Eggs' in x)) & (rules['antecedent_len'] >=2) ]"
   ]
  }
 ],
 "metadata": {
  "kernelspec": {
   "display_name": "Python 3",
   "language": "python",
   "name": "python3"
  },
  "language_info": {
   "codemirror_mode": {
    "name": "ipython",
    "version": 3
   },
   "file_extension": ".py",
   "mimetype": "text/x-python",
   "name": "python",
   "nbconvert_exporter": "python",
   "pygments_lexer": "ipython3",
   "version": "3.7.4"
  }
 },
 "nbformat": 4,
 "nbformat_minor": 2
}
